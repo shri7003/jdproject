{
 "cells": [
  {
   "cell_type": "code",
   "execution_count": 2,
   "id": "ac3fc154",
   "metadata": {},
   "outputs": [],
   "source": [
    "# 1. Problem Statement \n",
    "# to check whether student pass fail or got distinction in exam"
   ]
  },
  {
   "cell_type": "code",
   "execution_count": null,
   "id": "554010ba",
   "metadata": {},
   "outputs": [],
   "source": [
    "# 2. Data Gathering "
   ]
  },
  {
   "cell_type": "code",
   "execution_count": 3,
   "id": "f7b4920b",
   "metadata": {},
   "outputs": [],
   "source": [
    "import numpy as np \n",
    "import pandas as pd "
   ]
  },
  {
   "cell_type": "code",
   "execution_count": 7,
   "id": "2b1da7b9",
   "metadata": {},
   "outputs": [
    {
     "name": "stdout",
     "output_type": "stream",
     "text": [
      "Collecting openpyxl\n",
      "  Downloading openpyxl-3.0.10-py2.py3-none-any.whl (242 kB)\n",
      "     -------------------------------------- 242.1/242.1 kB 3.7 MB/s eta 0:00:00\n",
      "Collecting et-xmlfile\n",
      "  Downloading et_xmlfile-1.1.0-py3-none-any.whl (4.7 kB)\n",
      "Installing collected packages: et-xmlfile, openpyxl\n",
      "Successfully installed et-xmlfile-1.1.0 openpyxl-3.0.10\n"
     ]
    }
   ],
   "source": [
    "!pip install openpyxl"
   ]
  },
  {
   "cell_type": "code",
   "execution_count": 17,
   "id": "ef71c5fe",
   "metadata": {},
   "outputs": [
    {
     "data": {
      "text/html": [
       "<div>\n",
       "<style scoped>\n",
       "    .dataframe tbody tr th:only-of-type {\n",
       "        vertical-align: middle;\n",
       "    }\n",
       "\n",
       "    .dataframe tbody tr th {\n",
       "        vertical-align: top;\n",
       "    }\n",
       "\n",
       "    .dataframe thead th {\n",
       "        text-align: right;\n",
       "    }\n",
       "</style>\n",
       "<table border=\"1\" class=\"dataframe\">\n",
       "  <thead>\n",
       "    <tr style=\"text-align: right;\">\n",
       "      <th></th>\n",
       "      <th>Total marks out of 1500</th>\n",
       "      <th>Percentage</th>\n",
       "      <th>CGPA</th>\n",
       "      <th>Remark</th>\n",
       "    </tr>\n",
       "  </thead>\n",
       "  <tbody>\n",
       "    <tr>\n",
       "      <th>0</th>\n",
       "      <td>1273</td>\n",
       "      <td>84.866667</td>\n",
       "      <td>9.01</td>\n",
       "      <td>2</td>\n",
       "    </tr>\n",
       "    <tr>\n",
       "      <th>1</th>\n",
       "      <td>1235</td>\n",
       "      <td>82.333333</td>\n",
       "      <td>8.53</td>\n",
       "      <td>2</td>\n",
       "    </tr>\n",
       "  </tbody>\n",
       "</table>\n",
       "</div>"
      ],
      "text/plain": [
       "   Total marks out of 1500  Percentage  CGPA  Remark\n",
       "0                     1273   84.866667  9.01       2\n",
       "1                     1235   82.333333  8.53       2"
      ]
     },
     "execution_count": 17,
     "metadata": {},
     "output_type": "execute_result"
    }
   ],
   "source": [
    "df = pd.read_excel(\"student.xlsx\")\n",
    "df.head(2)"
   ]
  },
  {
   "cell_type": "code",
   "execution_count": null,
   "id": "432ce98d",
   "metadata": {},
   "outputs": [],
   "source": [
    "# 3. EDA [Exploratory Data Analysis]"
   ]
  },
  {
   "cell_type": "code",
   "execution_count": 27,
   "id": "cfad38e0",
   "metadata": {},
   "outputs": [
    {
     "data": {
      "text/plain": [
       "<AxesSubplot:>"
      ]
     },
     "execution_count": 27,
     "metadata": {},
     "output_type": "execute_result"
    },
    {
     "data": {
      "image/png": "[encoded data removed]",
      "text/plain": [
       "<Figure size 640x480 with 1 Axes>"
      ]
     },
     "metadata": {},
     "output_type": "display_data"
    }
   ],
   "source": [
    "import seaborn as sns\n",
    "sns.boxplot(df['Total marks out of 1500'])"
   ]
  },
  {
   "cell_type": "code",
   "execution_count": 28,
   "id": "bf82321c",
   "metadata": {},
   "outputs": [
    {
     "data": {
      "text/plain": [
       "<AxesSubplot:>"
      ]
     },
     "execution_count": 28,
     "metadata": {},
     "output_type": "execute_result"
    },
    {
     "data": {
      "image/png": "[encoded data removed]",
      "text/plain": [
       "<Figure size 640x480 with 1 Axes>"
      ]
     },
     "metadata": {},
     "output_type": "display_data"
    }
   ],
   "source": [
    "sns.boxplot(df['Percentage'])"
   ]
  },
  {
   "cell_type": "code",
   "execution_count": 29,
   "id": "19d3da5d",
   "metadata": {},
   "outputs": [
    {
     "data": {
      "text/plain": [
       "<AxesSubplot:>"
      ]
     },
     "execution_count": 29,
     "metadata": {},
     "output_type": "execute_result"
    },
    {
     "data": {
      "image/png": "[encoded data removed]",
      "text/plain": [
       "<Figure size 640x480 with 1 Axes>"
      ]
     },
     "metadata": {},
     "output_type": "display_data"
    }
   ],
   "source": [
    "sns.boxplot(df['CGPA'])"
   ]
  },
  {
   "cell_type": "code",
   "execution_count": 32,
   "id": "ea4ffa76",
   "metadata": {},
   "outputs": [
    {
     "name": "stdout",
     "output_type": "stream",
     "text": [
      "0     9.01\n",
      "2     8.97\n",
      "4     8.95\n",
      "5     9.00\n",
      "20    9.01\n",
      "Name: CGPA, dtype: float64\n"
     ]
    },
    {
     "data": {
      "text/plain": [
       "[0, 2, 4, 5, 20]"
      ]
     },
     "execution_count": 32,
     "metadata": {},
     "output_type": "execute_result"
    }
   ],
   "source": [
    "from scipy.stats import zscore\n",
    "def get_outlier(df,feature,thresh):\n",
    "    z_val = zscore(df[feature])\n",
    "    outlier_index = np.where(z_val>thresh)[0]\n",
    "    print(df[feature].iloc[outlier_index])\n",
    "    return list(outlier_index)\n",
    "get_outlier(df,'CGPA',1)"
   ]
  },
  {
   "cell_type": "code",
   "execution_count": 35,
   "id": "99911570",
   "metadata": {},
   "outputs": [
    {
     "name": "stdout",
     "output_type": "stream",
     "text": [
      "0    84.866667\n",
      "1    82.333333\n",
      "2    82.200000\n",
      "3    79.400000\n",
      "4    78.666667\n",
      "5    77.866667\n",
      "Name: Percentage, dtype: float64\n"
     ]
    },
    {
     "data": {
      "text/plain": [
       "[0, 1, 2, 3, 4, 5]"
      ]
     },
     "execution_count": 35,
     "metadata": {},
     "output_type": "execute_result"
    }
   ],
   "source": [
    "get_outlier(df,'Percentage',1)"
   ]
  },
  {
   "cell_type": "code",
   "execution_count": 36,
   "id": "fd19d36c",
   "metadata": {},
   "outputs": [
    {
     "name": "stdout",
     "output_type": "stream",
     "text": [
      "0    1273\n",
      "1    1235\n",
      "2    1233\n",
      "3    1191\n",
      "4    1180\n",
      "5    1168\n",
      "Name: Total marks out of 1500, dtype: int64\n"
     ]
    },
    {
     "data": {
      "text/plain": [
       "[0, 1, 2, 3, 4, 5]"
      ]
     },
     "execution_count": 36,
     "metadata": {},
     "output_type": "execute_result"
    }
   ],
   "source": [
    "get_outlier(df,'Total marks out of 1500',1)"
   ]
  },
  {
   "cell_type": "code",
   "execution_count": 37,
   "id": "11a9330c",
   "metadata": {},
   "outputs": [
    {
     "data": {
      "text/plain": [
       "1043.6756756756756"
      ]
     },
     "execution_count": 37,
     "metadata": {},
     "output_type": "execute_result"
    }
   ],
   "source": [
    "mean =np.mean(df['Total marks out of 1500'])\n",
    "mean"
   ]
  },
  {
   "cell_type": "code",
   "execution_count": 38,
   "id": "79ccd527",
   "metadata": {},
   "outputs": [
    {
     "data": {
      "text/plain": [
       "[0, 1, 2, 3, 4, 5]"
      ]
     },
     "execution_count": 38,
     "metadata": {},
     "output_type": "execute_result"
    }
   ],
   "source": [
    "z_val = zscore(df['Total marks out of 1500'])\n",
    "outlier_index = np.where(z_val>1)[0]\n",
    "list(outlier_index)"
   ]
  },
  {
   "cell_type": "code",
   "execution_count": 42,
   "id": "fea692f4",
   "metadata": {},
   "outputs": [
    {
     "name": "stderr",
     "output_type": "stream",
     "text": [
      "C:\\Users\\BA001AX\\AppData\\Local\\Temp\\ipykernel_4056\\2271496815.py:1: SettingWithCopyWarning: \n",
      "A value is trying to be set on a copy of a slice from a DataFrame\n",
      "\n",
      "See the caveats in the documentation: https://pandas.pydata.org/pandas-docs/stable/user_guide/indexing.html#returning-a-view-versus-a-copy\n",
      "  df['Total marks out of 1500'].loc[df['Total marks out of 1500']>1]=mean\n"
     ]
    }
   ],
   "source": [
    "df['Total marks out of 1500'].loc[df['Total marks out of 1500']>1]=mean"
   ]
  },
  {
   "cell_type": "code",
   "execution_count": 43,
   "id": "7b09e22f",
   "metadata": {},
   "outputs": [
    {
     "name": "stdout",
     "output_type": "stream",
     "text": [
      "Series([], Name: Total marks out of 1500, dtype: float64)\n"
     ]
    },
    {
     "data": {
      "text/plain": [
       "[]"
      ]
     },
     "execution_count": 43,
     "metadata": {},
     "output_type": "execute_result"
    }
   ],
   "source": [
    "get_outlier(df,'Total marks out of 1500',1)"
   ]
  },
  {
   "cell_type": "code",
   "execution_count": 45,
   "id": "f57e3320",
   "metadata": {},
   "outputs": [
    {
     "data": {
      "text/plain": [
       "69.57837837837836"
      ]
     },
     "execution_count": 45,
     "metadata": {},
     "output_type": "execute_result"
    }
   ],
   "source": [
    "mean_p =np.mean(df['Percentage'])\n",
    "mean_p"
   ]
  },
  {
   "cell_type": "code",
   "execution_count": 46,
   "id": "eed91897",
   "metadata": {},
   "outputs": [
    {
     "name": "stderr",
     "output_type": "stream",
     "text": [
      "C:\\Users\\BA001AX\\AppData\\Local\\Temp\\ipykernel_4056\\2249070559.py:1: SettingWithCopyWarning: \n",
      "A value is trying to be set on a copy of a slice from a DataFrame\n",
      "\n",
      "See the caveats in the documentation: https://pandas.pydata.org/pandas-docs/stable/user_guide/indexing.html#returning-a-view-versus-a-copy\n",
      "  df['Percentage'].loc[df['Percentage']>1]=mean_p\n"
     ]
    }
   ],
   "source": [
    "df['Percentage'].loc[df['Percentage']>1]=mean_p"
   ]
  },
  {
   "cell_type": "code",
   "execution_count": 47,
   "id": "b3517862",
   "metadata": {},
   "outputs": [
    {
     "name": "stdout",
     "output_type": "stream",
     "text": [
      "Series([], Name: Percentage, dtype: float64)\n"
     ]
    },
    {
     "data": {
      "text/plain": [
       "[]"
      ]
     },
     "execution_count": 47,
     "metadata": {},
     "output_type": "execute_result"
    }
   ],
   "source": [
    "get_outlier(df,'Percentage',1)"
   ]
  },
  {
   "cell_type": "code",
   "execution_count": 48,
   "id": "9fc38a22",
   "metadata": {},
   "outputs": [
    {
     "data": {
      "text/plain": [
       "Index(['Total marks out of 1500', 'Percentage', 'CGPA', 'Remark'], dtype='object')"
      ]
     },
     "execution_count": 48,
     "metadata": {},
     "output_type": "execute_result"
    }
   ],
   "source": [
    "df.columns"
   ]
  },
  {
   "cell_type": "code",
   "execution_count": 49,
   "id": "931ca01a",
   "metadata": {},
   "outputs": [
    {
     "data": {
      "text/plain": [
       "7.930000000000001"
      ]
     },
     "execution_count": 49,
     "metadata": {},
     "output_type": "execute_result"
    }
   ],
   "source": [
    "mean_c =np.mean(df['CGPA'])\n",
    "mean_c"
   ]
  },
  {
   "cell_type": "code",
   "execution_count": 50,
   "id": "beab4089",
   "metadata": {},
   "outputs": [
    {
     "name": "stderr",
     "output_type": "stream",
     "text": [
      "C:\\Users\\BA001AX\\AppData\\Local\\Temp\\ipykernel_4056\\3165347914.py:1: SettingWithCopyWarning: \n",
      "A value is trying to be set on a copy of a slice from a DataFrame\n",
      "\n",
      "See the caveats in the documentation: https://pandas.pydata.org/pandas-docs/stable/user_guide/indexing.html#returning-a-view-versus-a-copy\n",
      "  df['CGPA'].loc[df['CGPA']>1]=mean_c\n"
     ]
    }
   ],
   "source": [
    "df['CGPA'].loc[df['CGPA']>1]=mean_c"
   ]
  },
  {
   "cell_type": "code",
   "execution_count": 51,
   "id": "6069b6b3",
   "metadata": {},
   "outputs": [
    {
     "name": "stdout",
     "output_type": "stream",
     "text": [
      "Series([], Name: CGPA, dtype: float64)\n"
     ]
    },
    {
     "data": {
      "text/plain": [
       "[]"
      ]
     },
     "execution_count": 51,
     "metadata": {},
     "output_type": "execute_result"
    }
   ],
   "source": [
    "get_outlier(df,'CGPA',1)"
   ]
  },
  {
   "cell_type": "code",
   "execution_count": 52,
   "id": "702e3271",
   "metadata": {},
   "outputs": [
    {
     "name": "stdout",
     "output_type": "stream",
     "text": [
      "MSE = 0.3167832709099035\n",
      "RMSE = 0.562835029924314\n",
      "MAE = 0.4597064321652126\n",
      "R-Sequared Value = 0.4297901123621737\n"
     ]
    }
   ],
   "source": [
    "y_pred = lin_model.predict(x_test)\n",
    "\n",
    "mse = mean_squared_error(y_test, y_pred)\n",
    "print(f\"MSE = {mse}\")\n",
    "print(f\"RMSE = {np.sqrt(mse)}\")\n",
    "\n",
    "mae = mean_absolute_error(y_test, y_pred)\n",
    "print(f\"MAE = {mae}\")\n",
    "\n",
    "r2 = r2_score(y_test,y_pred)\n",
    "print(f\"R-Sequared Value = {r2}\")"
   ]
  },
  {
   "cell_type": "code",
   "execution_count": 53,
   "id": "83915d40",
   "metadata": {},
   "outputs": [
    {
     "data": {
      "text/html": [
       "<div>\n",
       "<style scoped>\n",
       "    .dataframe tbody tr th:only-of-type {\n",
       "        vertical-align: middle;\n",
       "    }\n",
       "\n",
       "    .dataframe tbody tr th {\n",
       "        vertical-align: top;\n",
       "    }\n",
       "\n",
       "    .dataframe thead th {\n",
       "        text-align: right;\n",
       "    }\n",
       "</style>\n",
       "<table border=\"1\" class=\"dataframe\">\n",
       "  <thead>\n",
       "    <tr style=\"text-align: right;\">\n",
       "      <th></th>\n",
       "      <th>Total marks out of 1500</th>\n",
       "      <th>Percentage</th>\n",
       "      <th>CGPA</th>\n",
       "      <th>Remark</th>\n",
       "    </tr>\n",
       "  </thead>\n",
       "  <tbody>\n",
       "    <tr>\n",
       "      <th>0</th>\n",
       "      <td>1043.675676</td>\n",
       "      <td>69.578378</td>\n",
       "      <td>7.93</td>\n",
       "      <td>2</td>\n",
       "    </tr>\n",
       "    <tr>\n",
       "      <th>1</th>\n",
       "      <td>1043.675676</td>\n",
       "      <td>69.578378</td>\n",
       "      <td>7.93</td>\n",
       "      <td>2</td>\n",
       "    </tr>\n",
       "    <tr>\n",
       "      <th>2</th>\n",
       "      <td>1043.675676</td>\n",
       "      <td>69.578378</td>\n",
       "      <td>7.93</td>\n",
       "      <td>2</td>\n",
       "    </tr>\n",
       "    <tr>\n",
       "      <th>3</th>\n",
       "      <td>1043.675676</td>\n",
       "      <td>69.578378</td>\n",
       "      <td>7.93</td>\n",
       "      <td>2</td>\n",
       "    </tr>\n",
       "    <tr>\n",
       "      <th>4</th>\n",
       "      <td>1043.675676</td>\n",
       "      <td>69.578378</td>\n",
       "      <td>7.93</td>\n",
       "      <td>2</td>\n",
       "    </tr>\n",
       "    <tr>\n",
       "      <th>5</th>\n",
       "      <td>1043.675676</td>\n",
       "      <td>69.578378</td>\n",
       "      <td>7.93</td>\n",
       "      <td>2</td>\n",
       "    </tr>\n",
       "    <tr>\n",
       "      <th>6</th>\n",
       "      <td>1043.675676</td>\n",
       "      <td>69.578378</td>\n",
       "      <td>7.93</td>\n",
       "      <td>2</td>\n",
       "    </tr>\n",
       "    <tr>\n",
       "      <th>7</th>\n",
       "      <td>1043.675676</td>\n",
       "      <td>69.578378</td>\n",
       "      <td>7.93</td>\n",
       "      <td>2</td>\n",
       "    </tr>\n",
       "    <tr>\n",
       "      <th>8</th>\n",
       "      <td>1043.675676</td>\n",
       "      <td>69.578378</td>\n",
       "      <td>7.93</td>\n",
       "      <td>2</td>\n",
       "    </tr>\n",
       "    <tr>\n",
       "      <th>9</th>\n",
       "      <td>1043.675676</td>\n",
       "      <td>69.578378</td>\n",
       "      <td>7.93</td>\n",
       "      <td>2</td>\n",
       "    </tr>\n",
       "    <tr>\n",
       "      <th>10</th>\n",
       "      <td>1043.675676</td>\n",
       "      <td>69.578378</td>\n",
       "      <td>7.93</td>\n",
       "      <td>2</td>\n",
       "    </tr>\n",
       "    <tr>\n",
       "      <th>11</th>\n",
       "      <td>1043.675676</td>\n",
       "      <td>69.578378</td>\n",
       "      <td>7.93</td>\n",
       "      <td>2</td>\n",
       "    </tr>\n",
       "    <tr>\n",
       "      <th>12</th>\n",
       "      <td>1043.675676</td>\n",
       "      <td>69.578378</td>\n",
       "      <td>7.93</td>\n",
       "      <td>2</td>\n",
       "    </tr>\n",
       "    <tr>\n",
       "      <th>13</th>\n",
       "      <td>1043.675676</td>\n",
       "      <td>69.578378</td>\n",
       "      <td>7.93</td>\n",
       "      <td>2</td>\n",
       "    </tr>\n",
       "    <tr>\n",
       "      <th>14</th>\n",
       "      <td>1043.675676</td>\n",
       "      <td>69.578378</td>\n",
       "      <td>7.93</td>\n",
       "      <td>2</td>\n",
       "    </tr>\n",
       "    <tr>\n",
       "      <th>15</th>\n",
       "      <td>1043.675676</td>\n",
       "      <td>69.578378</td>\n",
       "      <td>7.93</td>\n",
       "      <td>2</td>\n",
       "    </tr>\n",
       "    <tr>\n",
       "      <th>16</th>\n",
       "      <td>1043.675676</td>\n",
       "      <td>69.578378</td>\n",
       "      <td>7.93</td>\n",
       "      <td>0</td>\n",
       "    </tr>\n",
       "    <tr>\n",
       "      <th>17</th>\n",
       "      <td>1043.675676</td>\n",
       "      <td>69.578378</td>\n",
       "      <td>7.93</td>\n",
       "      <td>2</td>\n",
       "    </tr>\n",
       "    <tr>\n",
       "      <th>18</th>\n",
       "      <td>1043.675676</td>\n",
       "      <td>69.578378</td>\n",
       "      <td>7.93</td>\n",
       "      <td>2</td>\n",
       "    </tr>\n",
       "    <tr>\n",
       "      <th>19</th>\n",
       "      <td>1043.675676</td>\n",
       "      <td>69.578378</td>\n",
       "      <td>7.93</td>\n",
       "      <td>2</td>\n",
       "    </tr>\n",
       "    <tr>\n",
       "      <th>20</th>\n",
       "      <td>1043.675676</td>\n",
       "      <td>69.578378</td>\n",
       "      <td>7.93</td>\n",
       "      <td>2</td>\n",
       "    </tr>\n",
       "    <tr>\n",
       "      <th>21</th>\n",
       "      <td>1043.675676</td>\n",
       "      <td>69.578378</td>\n",
       "      <td>7.93</td>\n",
       "      <td>2</td>\n",
       "    </tr>\n",
       "    <tr>\n",
       "      <th>22</th>\n",
       "      <td>1043.675676</td>\n",
       "      <td>69.578378</td>\n",
       "      <td>7.93</td>\n",
       "      <td>2</td>\n",
       "    </tr>\n",
       "    <tr>\n",
       "      <th>23</th>\n",
       "      <td>1043.675676</td>\n",
       "      <td>69.578378</td>\n",
       "      <td>7.93</td>\n",
       "      <td>2</td>\n",
       "    </tr>\n",
       "    <tr>\n",
       "      <th>24</th>\n",
       "      <td>1043.675676</td>\n",
       "      <td>69.578378</td>\n",
       "      <td>7.93</td>\n",
       "      <td>2</td>\n",
       "    </tr>\n",
       "    <tr>\n",
       "      <th>25</th>\n",
       "      <td>1043.675676</td>\n",
       "      <td>69.578378</td>\n",
       "      <td>7.93</td>\n",
       "      <td>0</td>\n",
       "    </tr>\n",
       "    <tr>\n",
       "      <th>26</th>\n",
       "      <td>1043.675676</td>\n",
       "      <td>69.578378</td>\n",
       "      <td>7.93</td>\n",
       "      <td>0</td>\n",
       "    </tr>\n",
       "    <tr>\n",
       "      <th>27</th>\n",
       "      <td>1043.675676</td>\n",
       "      <td>69.578378</td>\n",
       "      <td>7.93</td>\n",
       "      <td>2</td>\n",
       "    </tr>\n",
       "    <tr>\n",
       "      <th>28</th>\n",
       "      <td>1043.675676</td>\n",
       "      <td>69.578378</td>\n",
       "      <td>7.93</td>\n",
       "      <td>2</td>\n",
       "    </tr>\n",
       "    <tr>\n",
       "      <th>29</th>\n",
       "      <td>1043.675676</td>\n",
       "      <td>69.578378</td>\n",
       "      <td>7.93</td>\n",
       "      <td>0</td>\n",
       "    </tr>\n",
       "    <tr>\n",
       "      <th>30</th>\n",
       "      <td>1043.675676</td>\n",
       "      <td>69.578378</td>\n",
       "      <td>7.93</td>\n",
       "      <td>1</td>\n",
       "    </tr>\n",
       "    <tr>\n",
       "      <th>31</th>\n",
       "      <td>1043.675676</td>\n",
       "      <td>69.578378</td>\n",
       "      <td>7.93</td>\n",
       "      <td>2</td>\n",
       "    </tr>\n",
       "    <tr>\n",
       "      <th>32</th>\n",
       "      <td>1043.675676</td>\n",
       "      <td>69.578378</td>\n",
       "      <td>7.93</td>\n",
       "      <td>0</td>\n",
       "    </tr>\n",
       "    <tr>\n",
       "      <th>33</th>\n",
       "      <td>1043.675676</td>\n",
       "      <td>69.578378</td>\n",
       "      <td>7.93</td>\n",
       "      <td>0</td>\n",
       "    </tr>\n",
       "    <tr>\n",
       "      <th>34</th>\n",
       "      <td>1043.675676</td>\n",
       "      <td>69.578378</td>\n",
       "      <td>7.93</td>\n",
       "      <td>0</td>\n",
       "    </tr>\n",
       "    <tr>\n",
       "      <th>35</th>\n",
       "      <td>1043.675676</td>\n",
       "      <td>69.578378</td>\n",
       "      <td>7.93</td>\n",
       "      <td>0</td>\n",
       "    </tr>\n",
       "    <tr>\n",
       "      <th>36</th>\n",
       "      <td>1043.675676</td>\n",
       "      <td>69.578378</td>\n",
       "      <td>7.93</td>\n",
       "      <td>0</td>\n",
       "    </tr>\n",
       "  </tbody>\n",
       "</table>\n",
       "</div>"
      ],
      "text/plain": [
       "    Total marks out of 1500  Percentage  CGPA  Remark\n",
       "0               1043.675676   69.578378  7.93       2\n",
       "1               1043.675676   69.578378  7.93       2\n",
       "2               1043.675676   69.578378  7.93       2\n",
       "3               1043.675676   69.578378  7.93       2\n",
       "4               1043.675676   69.578378  7.93       2\n",
       "5               1043.675676   69.578378  7.93       2\n",
       "6               1043.675676   69.578378  7.93       2\n",
       "7               1043.675676   69.578378  7.93       2\n",
       "8               1043.675676   69.578378  7.93       2\n",
       "9               1043.675676   69.578378  7.93       2\n",
       "10              1043.675676   69.578378  7.93       2\n",
       "11              1043.675676   69.578378  7.93       2\n",
       "12              1043.675676   69.578378  7.93       2\n",
       "13              1043.675676   69.578378  7.93       2\n",
       "14              1043.675676   69.578378  7.93       2\n",
       "15              1043.675676   69.578378  7.93       2\n",
       "16              1043.675676   69.578378  7.93       0\n",
       "17              1043.675676   69.578378  7.93       2\n",
       "18              1043.675676   69.578378  7.93       2\n",
       "19              1043.675676   69.578378  7.93       2\n",
       "20              1043.675676   69.578378  7.93       2\n",
       "21              1043.675676   69.578378  7.93       2\n",
       "22              1043.675676   69.578378  7.93       2\n",
       "23              1043.675676   69.578378  7.93       2\n",
       "24              1043.675676   69.578378  7.93       2\n",
       "25              1043.675676   69.578378  7.93       0\n",
       "26              1043.675676   69.578378  7.93       0\n",
       "27              1043.675676   69.578378  7.93       2\n",
       "28              1043.675676   69.578378  7.93       2\n",
       "29              1043.675676   69.578378  7.93       0\n",
       "30              1043.675676   69.578378  7.93       1\n",
       "31              1043.675676   69.578378  7.93       2\n",
       "32              1043.675676   69.578378  7.93       0\n",
       "33              1043.675676   69.578378  7.93       0\n",
       "34              1043.675676   69.578378  7.93       0\n",
       "35              1043.675676   69.578378  7.93       0\n",
       "36              1043.675676   69.578378  7.93       0"
      ]
     },
     "execution_count": 53,
     "metadata": {},
     "output_type": "execute_result"
    }
   ],
   "source": [
    "df"
   ]
  },
  {
   "cell_type": "code",
   "execution_count": null,
   "id": "75e40c63",
   "metadata": {},
   "outputs": [],
   "source": []
  },
  {
   "cell_type": "code",
   "execution_count": 54,
   "id": "2fce1397",
   "metadata": {},
   "outputs": [
    {
     "data": {
      "text/plain": [
       "((25, 3), (12, 3), (25,), (12,))"
      ]
     },
     "execution_count": 54,
     "metadata": {},
     "output_type": "execute_result"
    }
   ],
   "source": [
    "x_train,x_test, y_train, y_test = train_test_split(x,y, test_size=0.3, random_state=5)\n",
    "x_train.shape,x_test.shape, y_train.shape, y_test.shape"
   ]
  },
  {
   "cell_type": "code",
   "execution_count": 55,
   "id": "f3ac52ec",
   "metadata": {},
   "outputs": [
    {
     "data": {
      "text/html": [
       "<style>#sk-container-id-2 {color: black;background-color: white;}#sk-container-id-2 pre{padding: 0;}#sk-container-id-2 div.sk-toggleable {background-color: white;}#sk-container-id-2 label.sk-toggleable__label {cursor: pointer;display: block;width: 100%;margin-bottom: 0;padding: 0.3em;box-sizing: border-box;text-align: center;}#sk-container-id-2 label.sk-toggleable__label-arrow:before {content: \"▸\";float: left;margin-right: 0.25em;color: #696969;}#sk-container-id-2 label.sk-toggleable__label-arrow:hover:before {color: black;}#sk-container-id-2 div.sk-estimator:hover label.sk-toggleable__label-arrow:before {color: black;}#sk-container-id-2 div.sk-toggleable__content {max-height: 0;max-width: 0;overflow: hidden;text-align: left;background-color: #f0f8ff;}#sk-container-id-2 div.sk-toggleable__content pre {margin: 0.2em;color: black;border-radius: 0.25em;background-color: #f0f8ff;}#sk-container-id-2 input.sk-toggleable__control:checked~div.sk-toggleable__content {max-height: 200px;max-width: 100%;overflow: auto;}#sk-container-id-2 input.sk-toggleable__control:checked~label.sk-toggleable__label-arrow:before {content: \"▾\";}#sk-container-id-2 div.sk-estimator input.sk-toggleable__control:checked~label.sk-toggleable__label {background-color: #d4ebff;}#sk-container-id-2 div.sk-label input.sk-toggleable__control:checked~label.sk-toggleable__label {background-color: #d4ebff;}#sk-container-id-2 input.sk-hidden--visually {border: 0;clip: rect(1px 1px 1px 1px);clip: rect(1px, 1px, 1px, 1px);height: 1px;margin: -1px;overflow: hidden;padding: 0;position: absolute;width: 1px;}#sk-container-id-2 div.sk-estimator {font-family: monospace;background-color: #f0f8ff;border: 1px dotted black;border-radius: 0.25em;box-sizing: border-box;margin-bottom: 0.5em;}#sk-container-id-2 div.sk-estimator:hover {background-color: #d4ebff;}#sk-container-id-2 div.sk-parallel-item::after {content: \"\";width: 100%;border-bottom: 1px solid gray;flex-grow: 1;}#sk-container-id-2 div.sk-label:hover label.sk-toggleable__label {background-color: #d4ebff;}#sk-container-id-2 div.sk-serial::before {content: \"\";position: absolute;border-left: 1px solid gray;box-sizing: border-box;top: 0;bottom: 0;left: 50%;z-index: 0;}#sk-container-id-2 div.sk-serial {display: flex;flex-direction: column;align-items: center;background-color: white;padding-right: 0.2em;padding-left: 0.2em;position: relative;}#sk-container-id-2 div.sk-item {position: relative;z-index: 1;}#sk-container-id-2 div.sk-parallel {display: flex;align-items: stretch;justify-content: center;background-color: white;position: relative;}#sk-container-id-2 div.sk-item::before, #sk-container-id-2 div.sk-parallel-item::before {content: \"\";position: absolute;border-left: 1px solid gray;box-sizing: border-box;top: 0;bottom: 0;left: 50%;z-index: -1;}#sk-container-id-2 div.sk-parallel-item {display: flex;flex-direction: column;z-index: 1;position: relative;background-color: white;}#sk-container-id-2 div.sk-parallel-item:first-child::after {align-self: flex-end;width: 50%;}#sk-container-id-2 div.sk-parallel-item:last-child::after {align-self: flex-start;width: 50%;}#sk-container-id-2 div.sk-parallel-item:only-child::after {width: 0;}#sk-container-id-2 div.sk-dashed-wrapped {border: 1px dashed gray;margin: 0 0.4em 0.5em 0.4em;box-sizing: border-box;padding-bottom: 0.4em;background-color: white;}#sk-container-id-2 div.sk-label label {font-family: monospace;font-weight: bold;display: inline-block;line-height: 1.2em;}#sk-container-id-2 div.sk-label-container {text-align: center;}#sk-container-id-2 div.sk-container {/* jupyter's `normalize.less` sets `[hidden] { display: none; }` but bootstrap.min.css set `[hidden] { display: none !important; }` so we also need the `!important` here to be able to override the default hidden behavior on the sphinx rendered scikit-learn.org. See: https://github.com/scikit-learn/scikit-learn/issues/21755 */display: inline-block !important;position: relative;}#sk-container-id-2 div.sk-text-repr-fallback {display: none;}</style><div id=\"sk-container-id-2\" class=\"sk-top-container\"><div class=\"sk-text-repr-fallback\"><pre>LinearRegression()</pre><b>In a Jupyter environment, please rerun this cell to show the HTML representation or trust the notebook. <br />On GitHub, the HTML representation is unable to render, please try loading this page with nbviewer.org.</b></div><div class=\"sk-container\" hidden><div class=\"sk-item\"><div class=\"sk-estimator sk-toggleable\"><input class=\"sk-toggleable__control sk-hidden--visually\" id=\"sk-estimator-id-2\" type=\"checkbox\" checked><label for=\"sk-estimator-id-2\" class=\"sk-toggleable__label sk-toggleable__label-arrow\">LinearRegression</label><div class=\"sk-toggleable__content\"><pre>LinearRegression()</pre></div></div></div></div></div>"
      ],
      "text/plain": [
       "LinearRegression()"
      ]
     },
     "execution_count": 55,
     "metadata": {},
     "output_type": "execute_result"
    }
   ],
   "source": [
    "lin_model1 = LinearRegression()\n",
    "lin_model1.fit(x_train,y_train) "
   ]
  },
  {
   "cell_type": "code",
   "execution_count": 56,
   "id": "57be7140",
   "metadata": {},
   "outputs": [],
   "source": [
    "x =df.drop('Remark', axis=1)\n",
    "y = df['Remark']\n",
    "\n",
    "from sklearn.model_selection import train_test_split\n",
    "from sklearn.linear_model import LinearRegression,LogisticRegression\n",
    "from sklearn.metrics import mean_absolute_error, mean_squared_error, r2_score,accuracy_score"
   ]
  },
  {
   "cell_type": "code",
   "execution_count": 57,
   "id": "f05e45d2",
   "metadata": {},
   "outputs": [
    {
     "data": {
      "text/plain": [
       "1.0"
      ]
     },
     "execution_count": 57,
     "metadata": {},
     "output_type": "execute_result"
    }
   ],
   "source": [
    "from sklearn.preprocessing import StandardScaler\n",
    "scaler_s = StandardScaler()\n",
    "x_train_train = scaler_s.fit_transform(x_train)\n",
    "x_test_train = scaler_s.transform(x_test)\n",
    "\n",
    "reg1 = LogisticRegression()\n",
    "reg1.fit(x_train_t,y_train)\n",
    "model1 = reg1.predict(x_test_t)\n",
    "accuracy_score(y_test,model1)"
   ]
  },
  {
   "cell_type": "code",
   "execution_count": 58,
   "id": "0c9b74c0",
   "metadata": {},
   "outputs": [
    {
     "name": "stdout",
     "output_type": "stream",
     "text": [
      "MSE = 0.3167832709099035\n",
      "RMSE = 0.562835029924314\n",
      "MAE = 0.4597064321652126\n",
      "R-Sequared Value = 0.4297901123621737\n"
     ]
    }
   ],
   "source": [
    "y_pred_test = lin_model1.predict(x_test)\n",
    "\n",
    "mse = mean_squared_error(y_test, y_pred_test)\n",
    "print(f\"MSE = {mse}\")\n",
    "print(f\"RMSE = {np.sqrt(mse)}\")\n",
    "\n",
    "mae = mean_absolute_error(y_test, y_pred_test)\n",
    "print(f\"MAE = {mae}\")\n",
    "\n",
    "r2 = r2_score(y_test,y_pred_test)\n",
    "print(f\"R-Sequared Value = {r2}\")\n"
   ]
  },
  {
   "cell_type": "code",
   "execution_count": 59,
   "id": "cd50fa5c",
   "metadata": {},
   "outputs": [
    {
     "name": "stdout",
     "output_type": "stream",
     "text": [
      "Training Data Metric\n",
      "MSE = 0.053553872912565324\n",
      "RMSE = 0.2314170972779784\n",
      "MAE = 0.1835358955918328\n",
      "R-Sequared Value = 0.9330576588592934\n"
     ]
    }
   ],
   "source": [
    "y_pred_train = lin_model.predict(x_train)\n",
    "\n",
    "print(f\"Training Data Metric\")\n",
    "mse = mean_squared_error(y_train, y_pred_train)\n",
    "print(f\"MSE = {mse}\")\n",
    "print(f\"RMSE = {np.sqrt(mse)}\")\n",
    "\n",
    "mae = mean_absolute_error(y_train, y_pred_train)\n",
    "print(f\"MAE = {mae}\")\n",
    "\n",
    "r2 = r2_score(y_train,y_pred_train)\n",
    "print(f\"R-Sequared Value = {r2}\")"
   ]
  },
  {
   "cell_type": "code",
   "execution_count": null,
   "id": "a90c59b2",
   "metadata": {},
   "outputs": [],
   "source": [
    "bias = low                           #overfitting model\n",
    "variance = high"
   ]
  },
  {
   "cell_type": "code",
   "execution_count": 60,
   "id": "d8986c2a",
   "metadata": {},
   "outputs": [],
   "source": [
    "from sklearn.ensemble import RandomForestClassifier"
   ]
  },
  {
   "cell_type": "code",
   "execution_count": 61,
   "id": "3b142f39",
   "metadata": {},
   "outputs": [
    {
     "data": {
      "text/plain": [
       "0.9166666666666666"
      ]
     },
     "execution_count": 61,
     "metadata": {},
     "output_type": "execute_result"
    }
   ],
   "source": [
    "accuracy_score(y_test,RandomForestClassifier().fit(x_train,y_train).predict(x_test))"
   ]
  },
  {
   "cell_type": "code",
   "execution_count": 62,
   "id": "956d30cf",
   "metadata": {},
   "outputs": [],
   "source": [
    "import pickle \n",
    "\n",
    "with open('model.pkl','wb') as file:\n",
    "    pickle.dump(lin_model1, file)"
   ]
  },
  {
   "cell_type": "code",
   "execution_count": 64,
   "id": "e5d3717e",
   "metadata": {},
   "outputs": [],
   "source": [
    "columns_list = list(x.columns)"
   ]
  },
  {
   "cell_type": "code",
   "execution_count": 65,
   "id": "cc84bc88",
   "metadata": {},
   "outputs": [],
   "source": [
    "d1 = {'columns':columns_list }\n",
    "import json\n",
    "with open('features.json','w') as file :\n",
    "    json.dump(d1, file)"
   ]
  },
  {
   "cell_type": "code",
   "execution_count": null,
   "id": "ab59f87d",
   "metadata": {},
   "outputs": [],
   "source": [
    "### Step 8: API Building and API Testing"
   ]
  },
  {
   "cell_type": "code",
   "execution_count": 66,
   "id": "2a661fc4",
   "metadata": {},
   "outputs": [
    {
     "data": {
      "text/plain": [
       "Index(['Total marks out of 1500', 'Percentage', 'CGPA', 'Remark'], dtype='object')"
      ]
     },
     "execution_count": 66,
     "metadata": {},
     "output_type": "execute_result"
    }
   ],
   "source": [
    "### Step 8: API Building and API Testing\n",
    "df.columns"
   ]
  },
  {
   "cell_type": "code",
   "execution_count": 69,
   "id": "87dafd81",
   "metadata": {},
   "outputs": [
    {
     "name": "stdout",
     "output_type": "stream",
     "text": [
      "[[1273.     84.87    9.01]]\n"
     ]
    },
    {
     "name": "stderr",
     "output_type": "stream",
     "text": [
      "C:\\Users\\BA001AX\\anaconda3\\envs\\jdproject\\lib\\site-packages\\sklearn\\base.py:450: UserWarning: X does not have valid feature names, but LinearRegression was fitted with feature names\n",
      "  warnings.warn(\n"
     ]
    },
    {
     "data": {
      "text/plain": [
       "array([2.50379596])"
      ]
     },
     "execution_count": 69,
     "metadata": {},
     "output_type": "execute_result"
    }
   ],
   "source": [
    "\n",
    "Total_marks = 1273\n",
    "Percentage = 84.87\n",
    "CGPA=9.01\n",
    "\n",
    "\n",
    "\n",
    "array = np.array ([Total_marks,Percentage,CGPA], ndmin = 2)\n",
    "print(array)\n",
    "\n",
    "result = lin_model1.predict(array)\n",
    "result"
   ]
  },
  {
   "cell_type": "code",
   "execution_count": null,
   "id": "765dd4ad",
   "metadata": {},
   "outputs": [],
   "source": []
  },
  {
   "cell_type": "code",
   "execution_count": null,
   "id": "8d8c6df1",
   "metadata": {},
   "outputs": [],
   "source": []
  }
 ],
 "metadata": {
  "kernelspec": {
   "display_name": "jdproject",
   "language": "python",
   "name": "jdproject"
  },
  "language_info": {
   "codemirror_mode": {
    "name": "ipython",
    "version": 3
   },
   "file_extension": ".py",
   "mimetype": "text/x-python",
   "name": "python",
   "nbconvert_exporter": "python",
   "pygments_lexer": "ipython3",
   "version": "3.8.10"
  }
 },
 "nbformat": 4,
 "nbformat_minor": 5
}
